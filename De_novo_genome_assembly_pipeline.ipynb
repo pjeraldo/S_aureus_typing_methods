{
 "cells": [
  {
   "cell_type": "markdown",
   "metadata": {
    "deletable": true,
    "editable": true
   },
   "source": [
    "# *De novo* assembly pipeline\n",
    "\n",
    "This is the *de novo* assembly pipeline used for the manuscript \"Comparison of Two Whole-Genome Sequencing Methods for Analysis of Three Methicillin-Resistant *Staphylococcus aureus* Outbreaks.\" The pipeline takes sequencing reads from an isolate, specifically a pair of fastq files from paired-end sequencing, and a pair of fastq files from mate pair sequencing. The pipeline outputs contigs and scaffolds for the isolate.\n",
    "\n",
    "As written in this notebook, this pipeline is used to assemble sequencing reads from a single isolate.\n",
    "\n",
    "## Software requirements (as used for this manuscript)\n",
    "\n",
    "- [`SPAdes`](http://cab.spbu.ru/software/spades/) version 3.1.1 \n",
    "- [`velvet`](https://www.ebi.ac.uk/~zerbino/velvet/) version 1.2.10\n",
    "- [`Trimmomatic`](http://www.usadellab.org/cms/?page=trimmomatic) version 0.32\n",
    "- [`seqtk`](https://github.com/lh3/seqtk)\n",
    "- [`KmerGenie`](http://kmergenie.bx.psu.edu/) version 1.6741\n",
    "- [`R`](https://www.r-project.org/) version 3.2.0\n",
    "\n",
    "The software dependencies of the above software will also be needed.\n",
    "\n",
    "Sources for custom code and scripts are included elswhere in this repository.\n",
    "\n",
    "\n",
    "## Other requirements\n",
    "\n",
    "You will need a name for the sample (stored in the `ALIAS` variable), the location of the fastq files to assemble (stored in the `PE_*` and `MP_*` variables), and the target coverage for the data (stored in `TARGET_COV`). \n",
    "\n",
    "The values for the parameters in the different tools are set as used for the processing of isolate sequencing data in the manuscript.\n",
    "\n",
    "## License\n",
    "\n",
    "This program is free software: you can redistribute it and/or modify\n",
    "it under the terms of the GNU General Public License as published by\n",
    "the Free Software Foundation, either version 3 of the License, or\n",
    "(at your option) any later version.\n",
    "\n",
    "This program is distributed in the hope that it will be useful,\n",
    "but WITHOUT ANY WARRANTY; without even the implied warranty of\n",
    "MERCHANTABILITY or FITNESS FOR A PARTICULAR PURPOSE.  See the\n",
    "GNU General Public License for more details.\n",
    "\n",
    "You should have received a copy of the GNU General Public License\n",
    "along with this program.  If not, see http://www.gnu.org/licenses/.\n",
    "\n",
    "Copyright 2017, Mayo Foundation for Medical Education and Research."
   ]
  },
  {
   "cell_type": "markdown",
   "metadata": {
    "deletable": true,
    "editable": true
   },
   "source": [
    "## Pipeline\n",
    "\n",
    "### Preamble\n",
    "\n",
    "Initial definitions for file locations."
   ]
  },
  {
   "cell_type": "code",
   "execution_count": 4,
   "metadata": {
    "collapsed": true,
    "deletable": true,
    "editable": true,
    "slideshow": {
     "slide_type": "slide"
    }
   },
   "outputs": [],
   "source": [
    "ALIAS=my_sample_name\n",
    "\n",
    "PE_1=/path/to/paired_end_read_1\n",
    "PE_2=/path/to/paired_end_read_2\n",
    "MP_1=/path/to/mate_pair_read_1\n",
    "MP_2=/path/to/mate_pair_read_2\n",
    "\n",
    "TARGET_COV=100.0"
   ]
  },
  {
   "cell_type": "markdown",
   "metadata": {
    "deletable": true,
    "editable": true
   },
   "source": [
    "### Cleanup\n",
    "\n",
    "Remove sequencing adapters and low-quality bases using `Trimmomatic`. The `Adapters.fasta` file contains a list of Illumina sequencing adapters. It is provided with the `Trimmomatic` software."
   ]
  },
  {
   "cell_type": "code",
   "execution_count": null,
   "metadata": {
    "collapsed": true,
    "deletable": true,
    "editable": true
   },
   "outputs": [],
   "source": [
    "TRIMMOMATIC_JAR=/path/to/trimmomatic-0.32.jar\n",
    "\n",
    "java -jar $TRIMMOMATIC_JAR PE -threads $NSLOTS $PE_1 $PE_2 \\\n",
    "  ${ALIAS}_pe_R1.c.fq ${ALIAS}_pe_U1.c.fq \\\n",
    "  ${ALIAS}_pe_R2.c.fq ${ALIAS}_pe_U2.c.fq \\\n",
    "  ILLUMINACLIP:Adapters.fasta:2:30:10 LEADING:3 TRAILING:3 MAXINFO:220:0.1 MINLEN:70\n",
    "java -jar $TRIMMOMATIC_JAR PE -threads $NSLOTS $MP_1 $MP_2 \\\n",
    "  ${ALIAS}_mp1_R1.c.fq ${ALIAS}_mp_U1.c.fq \\\n",
    "  ${ALIAS}_mp1_R2.c.fq ${ALIAS}_mp_U2.c.fq \\\n",
    "  ILLUMINACLIP:Adapters.fasta:2:30:10 LEADING:3 TRAILING:3 MAXINFO:220:0.1 MINLEN:70\n",
    "\n",
    "#concatenate single reads\n",
    "cat *U[12].c.fq > ${ALIAS}_se.i.fq\n"
   ]
  },
  {
   "cell_type": "markdown",
   "metadata": {
    "deletable": true,
    "editable": true
   },
   "source": [
    "### Cleanup - continued\n",
    "\n",
    "Remove reads with median phred score less than 30."
   ]
  },
  {
   "cell_type": "code",
   "execution_count": null,
   "metadata": {
    "collapsed": true,
    "deletable": true,
    "editable": true
   },
   "outputs": [],
   "source": [
    "for kind in pe mp\n",
    "do\n",
    "  seqtk mergepe ${ALIAS}_${kind}_R1.c.fq ${ALIAS}_${kind}_R2.c.fq > ${ALIAS}_${kind}.i.fq\n",
    "  median_filter ${ALIAS}_${kind}.i.fq > ${ALIAS}_${kind}.mf.fq\n",
    "  extract-paired-reads.py ${ALIAS}_${kind}.mf.fq\n",
    "done  "
   ]
  },
  {
   "cell_type": "markdown",
   "metadata": {
    "deletable": true,
    "editable": true
   },
   "source": [
    "### Prepare reads\n",
    "\n",
    "Prepare reads for error-correction: interleave and compress paired reads; consolidate single (mate-less) reads."
   ]
  },
  {
   "cell_type": "code",
   "execution_count": null,
   "metadata": {
    "collapsed": true,
    "deletable": true,
    "editable": true
   },
   "outputs": [],
   "source": [
    "#concatenate single reads\n",
    "cat *.se ${ALIAS}_se.mf.fq | gzip > ${ALIAS}_se.fq.gz\n",
    "\n",
    "#renaming paired reads, compress\n",
    "for kind in pe mp\n",
    "do\n",
    "  mv ${ALIAS}_${kind}.mf.fq.pe ${ALIAS}_${kind}.fq\n",
    "  gzip ${ALIAS}_${kind}.fq\n",
    "done"
   ]
  },
  {
   "cell_type": "markdown",
   "metadata": {
    "deletable": true,
    "editable": true
   },
   "source": [
    "### Error correct\n",
    "\n",
    "Error-correct all reads using `SPAdes`' error corrector. No assembly is performed yet."
   ]
  },
  {
   "cell_type": "code",
   "execution_count": null,
   "metadata": {
    "collapsed": true,
    "deletable": true,
    "editable": true
   },
   "outputs": [],
   "source": [
    "spades.py -t $NSLOTS --only-error-correction -o spades_output \\\n",
    "  --pe1-12 ${ALIAS}_pe.fq.gz --pe1-s ${ALIAS}_se.fq.gz \\\n",
    "  --hqmp1-12 ${ALIAS}_mp1.fq.gz --hqmp2-12 ${ALIAS}_mp2.fq.gz"
   ]
  },
  {
   "cell_type": "markdown",
   "metadata": {
    "deletable": true,
    "editable": true
   },
   "source": [
    "### Post-error-correction\n",
    "\n",
    "Extract corrected reads, consolidate as interleaved fastq files."
   ]
  },
  {
   "cell_type": "code",
   "execution_count": null,
   "metadata": {
    "collapsed": true,
    "deletable": true,
    "editable": true
   },
   "outputs": [],
   "source": [
    "cd spades_output/corrected\n",
    "\n",
    "gunzip ${ALIAS}_*_*.00.*_0.cor.fastq.gz\n",
    "\n",
    "${ALIAS}_pe_1.00.1_0.cor.fastq ${ALIAS}_pe_2.00.1_0.cor.fastq > ${ALIAS}_pe.ec.fq\n",
    "${ALIAS}_mp_1.00.0_0.cor.fastq ${ALIAS}_mp_2.00.0_0.cor.fastq > ${ALIAS}_mp.ec.fq\n",
    "\n",
    "mv *.ec.fq ../../\n",
    "\n",
    "cd ../../"
   ]
  },
  {
   "cell_type": "markdown",
   "metadata": {
    "deletable": true,
    "editable": true
   },
   "source": [
    "### Normalize coverage\n",
    "\n",
    "Normalize the expected coverage using `specialk` from `KmerGenie`, as well as it's `R` scripts.\n",
    "\n",
    "- Calculate peak coverage at k-mer = 51 using `specialk`\n",
    "- Randomly remove extra reads from files using `seqtk sample`, to match desired coverage.\n",
    "- Calculate new peak coverages for odd k-mer values from 31 to 121, as well as the error cutoffs. This is to be passed to `velvet` in the arrays `COVS` and `CUTOFFS`."
   ]
  },
  {
   "cell_type": "code",
   "execution_count": null,
   "metadata": {
    "collapsed": true,
    "deletable": true,
    "editable": true
   },
   "outputs": [],
   "source": [
    "R_SCRIPTS=/path/to/kmergenie/R_scripts\n",
    "\n",
    "ls *.ec.fq > ecfiles.txt\n",
    "specialk ecfiles.txt -t $NSLOTS -l 51 -k 51 -o ${ALIAS}or\n",
    "cp $R_SCRIPTS/*.r .\n",
    "ACTUAL_COV=$(Rscript get-peak.r ${ALIAS}or-k51.histo)\n",
    "\n",
    "FRACTION=$(python -c \"print $TARGET_COV/$ACTUAL_COV\")\n",
    "echo \"COV=$TARGET_COV\" > coverage.txt\n",
    "\n",
    "seqtk sample -s $A_NUMBER_1 ${ALIAS}_pe.ec.fq $FRACTION > ${ALIAS}_pe.ec.keep.fq\n",
    "seqtk sample -s $A_NUMBER_2 ${ALIAS}_mp.ec.fq $FRACTION > ${ALIAS}_mp.ec.keep.fq\n",
    "seqtk sample -s $A_NUMBER_1 ${ALIAS}_se.ec.fq $FRACTION > ${ALIAS}_se.ec.keep.fq\n",
    "\n",
    "ls *.ec.keep.fq > ecfiles.txt\n",
    "specialk ecfiles.txt -t $NSLOTS -l 31 -k 121 -s 2 -o ${ALIAS}\n",
    "echo \"declare -A COVS\" >> coverage.txt\n",
    "echo \"declare -A CUTOFFS\" > cutoffs.txt\n",
    "\n",
    "#add one by one to the coverages files\n",
    "for kmer in $(seq 31 2 121)\n",
    "do\n",
    "  MY_COV=$(Rscript get-peak.r ${ALIAS}-k${kmer}.histo)\n",
    "  MY_CUTOFF=$(Rscript get-cutoff.r ${ALIAS}-k${kmer}.histo)\n",
    "  COVS[$kmer]=$MY_COV\n",
    "  CUTOFFS[$kmer]=$MY_CUTOFF\n",
    "done\n"
   ]
  },
  {
   "cell_type": "markdown",
   "metadata": {
    "deletable": true,
    "editable": true
   },
   "source": [
    "### Reverse-complement mate pair reads\n",
    "\n",
    "To be passed to velvet as \"innies\" (FR orientation), using `seqtk seq -r`."
   ]
  },
  {
   "cell_type": "code",
   "execution_count": null,
   "metadata": {
    "collapsed": true,
    "deletable": true,
    "editable": true
   },
   "outputs": [],
   "source": [
    "seqtk seq -r ${ALIAS}_mp.ec.keep.fq > ${ALIAS}_mp.ec.keep.rc.fq"
   ]
  },
  {
   "cell_type": "markdown",
   "metadata": {
    "deletable": true,
    "editable": true
   },
   "source": [
    "### Prepare reads for `velvet` assembly\n",
    "\n",
    "Prepare the reads using `velveth`, as they will be used for multiple assemblies."
   ]
  },
  {
   "cell_type": "code",
   "execution_count": null,
   "metadata": {
    "collapsed": true,
    "deletable": true,
    "editable": true
   },
   "outputs": [],
   "source": [
    "velveth velvet_seqs 33 -noHash -create_binary -fastq.gz \\\n",
    "-shortPaired $CLEANDIR/${ALIAS}_pe.ec.keep.fq.gz \\\n",
    "  -shortPaired2 $CLEANDIR/${ALIAS}_mp.ec.keep.rc.fq.gz \\\n",
    "  -short3 $CLEANDIR/${ALIAS}_se.ec.keep.fq.gz"
   ]
  },
  {
   "cell_type": "markdown",
   "metadata": {
    "deletable": true,
    "editable": true
   },
   "source": [
    "### `velvet` assembly\n",
    "\n",
    "Assemble the reads using `velvetg` for odd k-mer values from 31 to 121, passing expected coverages and cutoffs for each k-mer value."
   ]
  },
  {
   "cell_type": "code",
   "execution_count": null,
   "metadata": {
    "collapsed": true,
    "deletable": true,
    "editable": true
   },
   "outputs": [],
   "source": [
    "for KMER in $(seq 31 2 121)\n",
    "do\n",
    "    mkdir velvet_$KMER\n",
    "\tcd velvet_$KMER\n",
    "\tln -s ../velvet_seqs/CnyUnifiedSeq\n",
    "\tln -s ../velvet_seqs/CnyUnifiedSeq.names\n",
    "\tcd ..\n",
    "\n",
    "\t#hash the reads\n",
    "\tOMP_NUM_THREADS=$NSLOTS velveth velvet_$KMER $KMER -reuse_binary\n",
    "\t#assemble the reads\n",
    "\tMY_COV=${COVS[$KMER]}\n",
    "\tOMP_NUM_THREADS=$NSLOTS velvetg velvet_$KMER -scaffolding no \\\n",
    "      -exp_cov $MY_COV -cov_cutoff ${CUTOFFS[$KMER]} -read_trkg yes \\\n",
    "      -ins_length 500 -ins_length2 8000 -min_contig_lgth 1000\n",
    "done"
   ]
  },
  {
   "cell_type": "markdown",
   "metadata": {
    "deletable": true,
    "editable": true
   },
   "source": [
    "### Select \"best\" `velvet` assembly\n",
    "\n",
    "This just selects the assembly with the longest contig. This assembly will be passed to `SPAdes` as a suggestion through its `--untrusted-contigs` option."
   ]
  },
  {
   "cell_type": "code",
   "execution_count": null,
   "metadata": {
    "collapsed": true,
    "deletable": true,
    "editable": true
   },
   "outputs": [],
   "source": [
    "BEST_VELVET_CONTIGS=$(assembly_useful_stats.py --no_header velvet_*/contigs.fa|sort -nrk8|head -n1|cut -f 10)"
   ]
  },
  {
   "cell_type": "markdown",
   "metadata": {
    "deletable": true,
    "editable": true
   },
   "source": [
    "### `SPAdes` assembly\n",
    "\n",
    "Assembly with `SPAdes` progressively using k-mers 21,33,55,77,99,127 (default for longer input reads), using the \"best\" `velvet` assembly as a suggestion."
   ]
  },
  {
   "cell_type": "code",
   "execution_count": null,
   "metadata": {
    "collapsed": true,
    "deletable": true,
    "editable": true
   },
   "outputs": [],
   "source": [
    "spades.py -t $NSLOTS --only-assembler -o spades_final_output -k 21,33,55,77,99,127 \\\n",
    "  --pe1-12 $CLEANDIR/${ALIAS}_pe.ec.keep.fq.gz --pe1-s $CLEANDIR/${ALIAS}_se.ec.keep.fq.gz \\\n",
    "  --hqmp1-12 $CLEANDIR/${ALIAS}_mp.ec.keep.fq.gz \\\n",
    "  --untrusted-contigs $BEST_VELVET_CONTIGS "
   ]
  },
  {
   "cell_type": "markdown",
   "metadata": {
    "deletable": true,
    "editable": true
   },
   "source": [
    "### Output\n",
    "\n",
    "The output scaffolds and contigs."
   ]
  },
  {
   "cell_type": "code",
   "execution_count": null,
   "metadata": {
    "collapsed": true,
    "deletable": true,
    "editable": true
   },
   "outputs": [],
   "source": [
    "CONTIGS=spades_final_output/contigs.fasta\n",
    "SCAFFOLDS=spades_final_output/scaffolds.fasta"
   ]
  }
 ],
 "metadata": {
  "kernelspec": {
   "display_name": "Bash",
   "language": "bash",
   "name": "bash"
  },
  "language_info": {
   "codemirror_mode": "shell",
   "file_extension": ".sh",
   "mimetype": "text/x-sh",
   "name": "bash"
  }
 },
 "nbformat": 4,
 "nbformat_minor": 2
}
