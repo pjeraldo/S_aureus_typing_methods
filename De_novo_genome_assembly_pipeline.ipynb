{
 "cells": [
  {
   "cell_type": "code",
   "execution_count": null,
   "metadata": {
    "collapsed": true,
    "slideshow": {
     "slide_type": "slide"
    }
   },
   "outputs": [],
   "source": [
    "ALIAS=my_sample_name\n",
    "PE_1=/path/to/paired_end_read_1\n",
    "PE_2=/path/to/paired_end_read_2\n",
    "MP1_1=/path/to/mate_pair_1/read_1\n",
    "MP1_2=/path/to/mate_pair_1/read_2\n",
    "MP2_1=/path/to/mate_pair_2/read_1\n",
    "MP2_2=/path/to/mate_pair_2/read_2"
   ]
  },
  {
   "cell_type": "code",
   "execution_count": null,
   "metadata": {
    "collapsed": true,
    "slideshow": {
     "slide_type": "slide"
    }
   },
   "outputs": [],
   "source": []
  },
  {
   "cell_type": "code",
   "execution_count": null,
   "metadata": {
    "collapsed": true
   },
   "outputs": [],
   "source": [
    "TRIMMOMATIC_JAR=/path/to/trimmomatic-0.32.jar\n",
    "java -jar $TRIMMOMATIC_JAR PE -threads $NSLOTS $PE_1 $PE_2 \\\n",
    "  ${ALIAS}_pe_R1.c.fq ${ALIAS}_pe_U1.c.fq \\\n",
    "  ${ALIAS}_pe_R2.c.fq ${ALIAS}_pe_U2.c.fq \\\n",
    "  ILLUMINACLIP:Adapters.fasta:2:30:10 LEADING:3 TRAILING:3 MAXINFO:220:0.1 MINLEN:70\n",
    "java -jar $TRIMMOMATIC_JAR PE -threads $NSLOTS $MP1_1 $MP1_2 \\\n",
    "  ${ALIAS}_mp1_R1.c.fq ${ALIAS}_mp1_U1.c.fq \\\n",
    "  ${ALIAS}_mp1_R2.c.fq ${ALIAS}_mp1_U2.c.fq \\\n",
    "  ILLUMINACLIP:Adapters.fasta:2:30:10 LEADING:3 TRAILING:3 MAXINFO:220:0.1 MINLEN:70\n",
    "java -jar $TRIMMOMATIC_JAR PE -threads $NSLOTS $MP2_1 $MP2_2 \\\n",
    "  ${ALIAS}_mp2_R1.c.fq ${ALIAS}_mp2_U1.c.fq \\\n",
    "  ${ALIAS}_mp2_R2.c.fq ${ALIAS}_mp2_U2.c.fq \\\n",
    "  ILLUMINACLIP:Adapters.fasta:2:30:10 LEADING:3 TRAILING:3 MAXINFO:220:0.1 MINLEN:70\n",
    "\n",
    "#concatenate single reads\n",
    "cat *U[12].c.fq > ${ALIAS}_se.i.fq\n"
   ]
  },
  {
   "cell_type": "code",
   "execution_count": null,
   "metadata": {
    "collapsed": true
   },
   "outputs": [],
   "source": []
  },
  {
   "cell_type": "code",
   "execution_count": null,
   "metadata": {
    "collapsed": true
   },
   "outputs": [],
   "source": [
    "for kind in pe mp1 mp2\n",
    "do\n",
    "  seqtk mergepe ${ALIAS}_${kind}_R1.c.fq ${ALIAS}_${kind}_R2.c.fq > ${ALIAS}_${kind}.i.fq\n",
    "done  "
   ]
  },
  {
   "cell_type": "code",
   "execution_count": null,
   "metadata": {
    "collapsed": true
   },
   "outputs": [],
   "source": [
    "for kind in pe mp1 mp2\n",
    "do\n",
    "  median_filter ${ALIAS}_${kind}.i.fq > ${ALIAS}_${kind}.mf.fq\n",
    "done"
   ]
  },
  {
   "cell_type": "code",
   "execution_count": null,
   "metadata": {
    "collapsed": true
   },
   "outputs": [],
   "source": [
    "for kind in pe mp1 mp2\n",
    "do\n",
    "  extract-paired-reads.py ${ALIAS}_${kind}.mf.fq\n",
    "done\n",
    "\n"
   ]
  },
  {
   "cell_type": "code",
   "execution_count": null,
   "metadata": {
    "collapsed": true
   },
   "outputs": [],
   "source": [
    "#concatenate single reads\n",
    "cat *.se ${ALIAS}_se.mf.fq | gzip > ${ALIAS}_se.fq.gz\n",
    "\n",
    "#renaming paires reads, compress\n",
    "for kind in pe mp1 mp2\n",
    "do\n",
    "  mv ${ALIAS}_${kind}.mf.fq.pe ${ALIAS}_${kind}.fq\n",
    "  gzip ${ALIAS}_${kind}.fq\n",
    "done"
   ]
  },
  {
   "cell_type": "code",
   "execution_count": null,
   "metadata": {
    "collapsed": true
   },
   "outputs": [],
   "source": [
    "spades.py -t $NSLOTS --only-error-correction -o spades_output \\\n",
    "  --pe1-12 ${ALIAS}_pe.fq.gz --pe1-s ${ALIAS}_se.fq.gz \\\n",
    "  --hqmp1-12 ${ALIAS}_mp1.fq.gz --hqmp2-12 ${ALIAS}_mp2.fq.gz"
   ]
  },
  {
   "cell_type": "code",
   "execution_count": null,
   "metadata": {
    "collapsed": true
   },
   "outputs": [],
   "source": [
    "cd spades_output/corrected\n",
    "\n",
    "gunzip ${ALIAS}_*_*.00.*_0.cor.fastq.gz\n",
    "\n",
    "${ALIAS}_pe_1.00.2_0.cor.fastq ${ALIAS}_pe_2.00.2_0.cor.fastq > ${ALIAS}_pe.ec.fq\n",
    "${ALIAS}_mp1_1.00.0_0.cor.fastq ${ALIAS}_mp1_2.00.0_0.cor.fastq > ${ALIAS}_mp1.ec.fq\n",
    "${ALIAS}_mp2_1.00.1_0.cor.fastq ${ALIAS}_mp2_2.00.1_0.cor.fastq > ${ALIAS}_mp2.ec.fq\n",
    "\n",
    "mv *.ec.fq ../../\n",
    "cd ../../"
   ]
  },
  {
   "cell_type": "code",
   "execution_count": null,
   "metadata": {
    "collapsed": true
   },
   "outputs": [],
   "source": [
    "R_SCRIPTS=/path/to/kmergenie/R_scripts\n",
    "ls *.ec.fq > ecfiles.txt\n",
    "specialk ecfiles.txt -t $NSLOTS -l 51 -k 51 -o ${ALIAS}or\n",
    "cp $R_SCRIPTS/*.r .\n",
    "ACTUAL_COV=$(Rscript get-peak.r ${ALIAS}or-k51.histo)\n",
    "\n",
    "FRACTION=$(python -c \"print $TARGET_COV/$ACTUAL_COV\")\n",
    "echo \"COV=$TARGET_COV\" > coverage.txt\n",
    "\n",
    "seqtk sample -s $A_NUMBER_1 ${ALIAS}_pe.ec.fq $FRACTION > ${ALIAS}_pe.ec.keep.fq\n",
    "seqtk sample -s $A_NUMBER_2 ${ALIAS}_mp1.ec.fq $FRACTION > ${ALIAS}_mp1.ec.keep.fq\n",
    "seqtk sample -s $A_NUMBER_2 ${ALIAS}_mp2.ec.fq $FRACTION > ${ALIAS}_mp2.ec.keep.fq\n",
    "seqtk sample -s $A_NUMBER_1 ${ALIAS}_se.ec.fq $FRACTION > ${ALIAS}_se.ec.keep.fq\n",
    "\n",
    "ls *.ec.keep.fq > ecfiles.txt\n",
    "specialk ecfiles.txt -t $NSLOTS -l 31 -k 121 -s 2 -o ${ALIAS}\n",
    "echo \"declare -A COVS\" >> coverage.txt\n",
    "echo \"declare -A CUTOFFS\" > cutoffs.txt\n",
    "\n",
    "#add one by one to the coverages files\n",
    "for kmer in $(seq 31 2 121)\n",
    "do\n",
    "  MY_COV=$(Rscript get-peak.r ${ALIAS}-k${kmer}.histo)\n",
    "  MY_CUTOFF=$(Rscript get-cutoff.r ${ALIAS}-k${kmer}.histo)\n",
    "  echo \"COVS[$kmer]=$MY_COV\" >> coverage.txt\n",
    "  echo \"CUTOFFS[$kmer]=$MY_CUTOFF\" >> cutoffs.txt\n",
    "done\n"
   ]
  },
  {
   "cell_type": "code",
   "execution_count": null,
   "metadata": {
    "collapsed": true
   },
   "outputs": [],
   "source": [
    "for kind in mp1 mp2\n",
    "do\n",
    "  seqtk seq -r ${ALIAS}_${kind}.ec.keep.fq > ${ALIAS}_${kind}.ec.keep.rc.fq\n",
    "done"
   ]
  },
  {
   "cell_type": "code",
   "execution_count": null,
   "metadata": {
    "collapsed": true
   },
   "outputs": [],
   "source": [
    "velveth velvet_seqs 33 -noHash -create_binary -fastq.gz \\\n",
    "-shortPaired $CLEANDIR/${ALIAS}_pe.ec.keep.fq.gz \\\n",
    "  -shortPaired2 $CLEANDIR/${ALIAS}_mp1.ec.keep.rc.fq.gz \\\n",
    "  -shortPaired3 $CLEANDIR/${ALIAS}_mp2.ec.keep.rc.fq.gz \\\n",
    "  -short4 $CLEANDIR/${ALIAS}_se.ec.keep.fq.gz"
   ]
  },
  {
   "cell_type": "code",
   "execution_count": null,
   "metadata": {
    "collapsed": true
   },
   "outputs": [],
   "source": [
    "for KMER in $(seq 31 2 121)\n",
    "do\n",
    "    mkdir velvet_$KMER\n",
    "\tcd velvet_$KMER\n",
    "\tln -s ../velvet_seqs/CnyUnifiedSeq\n",
    "\tln -s ../velvet_seqs/CnyUnifiedSeq.names\n",
    "\tcd ..\n",
    "\n",
    "\t#hash the reads\n",
    "\tOMP_NUM_THREADS=$NSLOTS velveth velvet_$KMER $KMER -reuse_binary\n",
    "\t#assemble the reads\n",
    "\tMY_COV=$COV\n",
    "\tOMP_NUM_THREADS=$NSLOTS velvetg velvet_$KMER -scaffolding no \\\n",
    "      -exp_cov $MY_COV -cov_cutoff ${CUTOFFS[$KMER]} -read_trkg yes \\\n",
    "      -ins_length 500 -ins_length2 3200 -ins_length3 8000 -min_contig_lgth 1000\n",
    "done"
   ]
  },
  {
   "cell_type": "code",
   "execution_count": null,
   "metadata": {
    "collapsed": true
   },
   "outputs": [],
   "source": [
    "BEST_VELVET_CONTIGS=$(assembly_useful_stats.py --no_header velvet_*/contigs.fa|sort -nrk8|head -n1|cut -f 10)"
   ]
  },
  {
   "cell_type": "code",
   "execution_count": null,
   "metadata": {
    "collapsed": true
   },
   "outputs": [],
   "source": [
    "spades.py -t $NSLOTS --only-assembler -o spades_final_output -k 21,33,55,77,99,127 \\\n",
    "  --pe1-12 $CLEANDIR/${ALIAS}_pe.ec.keep.fq.gz --pe1-s $CLEANDIR/${ALIAS}_se.ec.keep.fq.gz \\\n",
    "  --hqmp1-12 $CLEANDIR/${ALIAS}_mp1.ec.keep.fq.gz --hqmp2-12 $CLEANDIR/${ALIAS}_mp2.ec.keep.fq.gz \\\n",
    "  --untrusted-contigs $BEST_VELVET_CONTIGS "
   ]
  },
  {
   "cell_type": "code",
   "execution_count": null,
   "metadata": {
    "collapsed": true
   },
   "outputs": [],
   "source": []
  }
 ],
 "metadata": {
  "kernelspec": {
   "display_name": "Bash",
   "language": "bash",
   "name": "bash"
  },
  "language_info": {
   "codemirror_mode": "shell",
   "file_extension": ".sh",
   "mimetype": "text/x-sh",
   "name": "bash"
  }
 },
 "nbformat": 4,
 "nbformat_minor": 2
}
